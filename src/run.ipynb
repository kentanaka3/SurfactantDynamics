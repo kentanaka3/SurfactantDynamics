{
 "cells": [
  {
   "cell_type": "code",
   "execution_count": 2,
   "metadata": {},
   "outputs": [
    {
     "name": "stdout",
     "output_type": "stream",
     "text": [
      "[[100, 110], [101, 110], [102, 111], [103, 111], [104, 112], [105, 112], [106, 112], [107, 113], [108, 113], [109, 114], [110, 114], [111, 114], [112, 115], [113, 115], [114, 116], [115, 116], [116, 116], [117, 117], [118, 117], [119, 118], [120, 118], [121, 118], [122, 119], [123, 119], [124, 120], [125, 120]]\n",
      "[[125, 110], [75, 110], [125, 110], [75, 110], [100, 135], [100, 135], [100, 85], [100, 85], [125, 111], [75, 111], [125, 109], [75, 109], [101, 135], [99, 135], [101, 85], [99, 85], [125, 112], [75, 112], [125, 108], [75, 108], [102, 135], [98, 135], [102, 85], [98, 85], [125, 113], [75, 113], [125, 107], [75, 107], [103, 135], [97, 135], [103, 85], [97, 85], [125, 114], [75, 114], [125, 106], [75, 106], [104, 135], [96, 135], [104, 85], [96, 85], [125, 115], [75, 115], [125, 105], [75, 105], [105, 135], [95, 135], [105, 85], [95, 85], [124, 116], [76, 116], [124, 104], [76, 104], [106, 134], [94, 134], [106, 86], [94, 86], [124, 117], [76, 117], [124, 103], [76, 103], [107, 134], [93, 134], [107, 86], [93, 86], [124, 118], [76, 118], [124, 102], [76, 102], [108, 134], [92, 134], [108, 86], [92, 86], [123, 119], [77, 119], [123, 101], [77, 101], [109, 133], [91, 133], [109, 87], [91, 87], [123, 120], [77, 120], [123, 100], [77, 100], [110, 133], [90, 133], [110, 87], [90, 87], [122, 121], [78, 121], [122, 99], [78, 99], [111, 132], [89, 132], [111, 88], [89, 88], [122, 122], [78, 122], [122, 98], [78, 98], [112, 132], [88, 132], [112, 88], [88, 88], [121, 123], [79, 123], [121, 97], [79, 97], [113, 131], [87, 131], [113, 89], [87, 89], [121, 124], [79, 124], [121, 96], [79, 96], [114, 131], [86, 131], [114, 89], [86, 89], [120, 125], [80, 125], [120, 95], [80, 95], [115, 130], [85, 130], [115, 90], [85, 90], [119, 126], [81, 126], [119, 94], [81, 94], [116, 129], [84, 129], [116, 91], [84, 91], [118, 127], [82, 127], [118, 93], [82, 93], [117, 128], [83, 128], [117, 92], [83, 92]]\n"
     ]
    }
   ],
   "source": [
    "def draw_line(x0, y0, x1, y1):\n",
    "  dx = abs(x1 - x0)\n",
    "  dy = abs(y1 - y0)\n",
    "  if x0 < x1: sx = 1\n",
    "  else: sx = -1\n",
    "  if y0 < y1: sy = 1\n",
    "  else: sy = -1\n",
    "  err = dx - dy\n",
    "  x = x0\n",
    "  y = y0\n",
    "  coords = []\n",
    "  while x != x1 or y != y1:\n",
    "    coords.append([x, y])\n",
    "    e2 = 2 * err\n",
    "    if e2 > -dy:\n",
    "      err -= dy\n",
    "      x += sx\n",
    "    if e2 < dx:\n",
    "      err += dx\n",
    "      y += sy\n",
    "  coords.append([x1, y1])\n",
    "  return coords\n",
    "\n",
    "# Test\n",
    "x1 = 100\n",
    "y1 = 110\n",
    "x2 = 125\n",
    "y2 = 120\n",
    "\n",
    "print(draw_line(x1, y1, x2, y2))\n",
    "\n",
    "def draw_circle(xc, yc, r):\n",
    "  x = r\n",
    "  y = 0\n",
    "  d = 1 - r\n",
    "  coords = []\n",
    "  while x >= y:\n",
    "    coords.append([xc + x, yc + y])\n",
    "    coords.append([xc - x, yc + y])\n",
    "    coords.append([xc + x, yc - y])\n",
    "    coords.append([xc - x, yc - y])\n",
    "    coords.append([xc + y, yc + x])\n",
    "    coords.append([xc - y, yc + x])\n",
    "    coords.append([xc + y, yc - x])\n",
    "    coords.append([xc - y, yc - x])\n",
    "    if d > 0:\n",
    "      x -= 1\n",
    "      d = d - 2*x + 1\n",
    "    y += 1\n",
    "    d = d + 2*y + 1\n",
    "  return coords\n",
    "\n",
    "r = 25\n",
    "print(draw_circle(x1, y1, r))"
   ]
  },
  {
   "cell_type": "code",
   "execution_count": 21,
   "metadata": {},
   "outputs": [
    {
     "data": {
      "text/plain": [
       "<Figure size 1080x576 with 0 Axes>"
      ]
     },
     "metadata": {},
     "output_type": "display_data"
    }
   ],
   "source": [
    "from PIL import Image, ImageOps\n",
    "import os.path, sys\n",
    "import numpy as np\n",
    "import matplotlib.pyplot as plt\n",
    "\n",
    "from matplotlib.animation import FuncAnimation\n",
    "from IPython import display\n",
    "\n",
    "path = \"../img/{}/29/\"\n",
    "dirs = sorted(os.listdir(path.format(\"original\")))\n",
    "Spos = np.array([526, 820])\n",
    "Rpos = np.array([537, 445])\n",
    "R = int(np.sqrt(np.sum(np.power(Spos - Rpos, 2))))\n",
    "seringe = [[254, 673],  # [(x1, y1),\n",
    "           [380, 687]]  #  (x2, y2)]\n",
    "a0, af = np.arctan2([seringe[0][1] - R, seringe[1][1] - R], # [y1, y2],\n",
    "                    [seringe[0][0] - R, seringe[1][0] - R]) # [x1, x2]\n",
    "def intensity():\n",
    "  intsty = np.zeros((len(dirs), R))\n",
    "  plt.figure(facecolor=\"white\", figsize=(15,8))\n",
    "  for k, item in enumerate(dirs):\n",
    "    fullpath = os.path.join(path.format(\"original\"), item)\n",
    "    g = os.path.join(path.format(\"cropped\"), os.path.splitext(item)[0])\n",
    "    h = os.path.join(path.format(\"center\"), os.path.splitext(item)[0])\n",
    "    if os.path.isfile(fullpath):\n",
    "      im = Image.open(fullpath)\n",
    "      imCrop = im.crop((Spos[0] - R, Spos[1] - R,\n",
    "                        Spos[0] + R, Spos[1] + R))\n",
    "      im = imCrop.load()\n",
    "      imBW = imCrop.convert('L', dither=Image.NONE)\n",
    "      imBW = ImageOps.invert(imBW)\n",
    "      imBW.save(g + \".png\", \"PNG\", quality=100)\n",
    "      imBW = np.asarray(imBW)\n",
    "      for (t1, t2) in draw_circle(R, R, R - 1):\n",
    "        t3 = np.arctan2(t2 - R, t1 - R)\n",
    "        if a0 < t3 or t3 < af:\n",
    "          for i, (x, y) in enumerate(draw_line(R, R, t1, t2)):\n",
    "            if i < R: intsty[k][i] += imBW[x, y]\n",
    "      # Manual Viasualize\n",
    "      for (x, y) in draw_line(R, R, int(R*(1 + np.cos(a0))),\n",
    "                              int(R*(1 + np.sin(a0)))):\n",
    "        im[x, y] = (255, 0, 0)\n",
    "      for (x, y) in draw_line(R, R, int(R*(1 + np.cos(af))),\n",
    "                              int(R*(1 + np.sin(af)))):\n",
    "        im[x, y] = (0, 0, 255)\n",
    "      for (x, y) in draw_circle(R, R, R - 1):\n",
    "        t3 = np.arctan2(y - R, x - R)\n",
    "        if a0 < t3 or t3 < af:\n",
    "          im[x, y] = (255, 0, 255)\n",
    "      im[R, R] = (0, 255, 0)\n",
    "      imCrop.save(h + \".png\", \"PNG\", quality=100)\n",
    "  norm = np.max(intsty)\n",
    "  intsty /= norm\n",
    "  Rs = []\n",
    "  for k, item in enumerate(dirs):\n",
    "    f = os.path.join(path.format(\"analyze\"), os.path.splitext(item)[0])\n",
    "    plt.xlabel(\"Radius\")\n",
    "    plt.ylabel(\"Intesity\")\n",
    "    plt.ylim(0, 1)\n",
    "    plt.xlim(0, R)\n",
    "    plt.vlines(10, 0, 1, linestyle=\"dashed\")\n",
    "    plt.title(f\"Time Frame: {k}\")\n",
    "    plt.plot(intsty[k])\n",
    "    if k > 2:\n",
    "      i = 10\n",
    "      while intsty[k][i] < 0.5: i += 1\n",
    "      Rs.append(i)\n",
    "      plt.plot(i, intsty[k][i], \"bo\")\n",
    "    plt.savefig(f + \".pdf\", format=\"pdf\")\n",
    "    plt.clf()\n",
    "  with open(path.format(\"analyze\") + \"data.dat\", \"w\") as fp:\n",
    "    for x, y in zip(range(3, len(Rs) + 3), Rs):\n",
    "      print(f\"{x}, {y}\", file=fp)\n",
    "intensity()"
   ]
  },
  {
   "cell_type": "code",
   "execution_count": null,
   "metadata": {},
   "outputs": [],
   "source": []
  }
 ],
 "metadata": {
  "kernelspec": {
   "display_name": "Python 3",
   "language": "python",
   "name": "python3"
  },
  "language_info": {
   "codemirror_mode": {
    "name": "ipython",
    "version": 3
   },
   "file_extension": ".py",
   "mimetype": "text/x-python",
   "name": "python",
   "nbconvert_exporter": "python",
   "pygments_lexer": "ipython3",
   "version": "3.10.6"
  },
  "orig_nbformat": 4,
  "vscode": {
   "interpreter": {
    "hash": "e7370f93d1d0cde622a1f8e1c04877d8463912d04d973331ad4851f04de6915a"
   }
  }
 },
 "nbformat": 4,
 "nbformat_minor": 2
}
